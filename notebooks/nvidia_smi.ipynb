{
 "cells": [
  {
   "cell_type": "markdown",
   "id": "198f0fd3-aa8f-461b-9b88-107a95b24218",
   "metadata": {},
   "source": [
    "# nvidia_smi"
   ]
  },
  {
   "cell_type": "markdown",
   "id": "c4b61864-83cf-4fb9-b589-077e4ce79742",
   "metadata": {},
   "source": [
    "# Font\n",
    "* https://pt.stackoverflow.com/questions/445064/libera%C3%A7%C3%A3o-de-mem%C3%B3ria-em-dicion%C3%A1rios-do-python"
   ]
  },
  {
   "cell_type": "code",
   "execution_count": 3,
   "id": "8852270d-1f39-41ed-8a1d-7e3a250a70e1",
   "metadata": {},
   "outputs": [
    {
     "name": "stdout",
     "output_type": "stream",
     "text": [
      "Thu Mar  6 15:08:45 2025       \n",
      "+---------------------------------------------------------------------------------------+\n",
      "| NVIDIA-SMI 535.183.01             Driver Version: 535.183.01   CUDA Version: 12.2     |\n",
      "|-----------------------------------------+----------------------+----------------------+\n",
      "| GPU  Name                 Persistence-M | Bus-Id        Disp.A | Volatile Uncorr. ECC |\n",
      "| Fan  Temp   Perf          Pwr:Usage/Cap |         Memory-Usage | GPU-Util  Compute M. |\n",
      "|                                         |                      |               MIG M. |\n",
      "|=========================================+======================+======================|\n",
      "|   0  NVIDIA GeForce RTX 3060        Off | 00000000:01:00.0  On |                  N/A |\n",
      "|  0%   45C    P5              17W / 180W |    505MiB / 12288MiB |     20%      Default |\n",
      "|                                         |                      |                  N/A |\n",
      "+-----------------------------------------+----------------------+----------------------+\n",
      "                                                                                         \n",
      "+---------------------------------------------------------------------------------------+\n",
      "| Processes:                                                                            |\n",
      "|  GPU   GI   CI        PID   Type   Process name                            GPU Memory |\n",
      "|        ID   ID                                                             Usage      |\n",
      "|=======================================================================================|\n",
      "|    0   N/A  N/A      1163      G   /usr/lib/xorg/Xorg                          274MiB |\n",
      "|    0   N/A  N/A      1688      G   /usr/bin/gnome-shell                         33MiB |\n",
      "|    0   N/A  N/A      5347      G   ...seed-version=20250305-050048.696000       88MiB |\n",
      "|    0   N/A  N/A      7128      G   ...erProcess --variations-seed-version       99MiB |\n",
      "+---------------------------------------------------------------------------------------+\n"
     ]
    }
   ],
   "source": [
    "import nvidia_smi\n",
    "!nvidia-smi"
   ]
  },
  {
   "cell_type": "code",
   "execution_count": 2,
   "id": "3680c53c-0135-4b31-a445-ff04f56e7661",
   "metadata": {},
   "outputs": [],
   "source": [
    "!kill 24790"
   ]
  },
  {
   "cell_type": "code",
   "execution_count": null,
   "id": "541afaf9-6653-4528-a5ac-3b775a60bbd4",
   "metadata": {},
   "outputs": [],
   "source": []
  }
 ],
 "metadata": {
  "kernelspec": {
   "display_name": "tf",
   "language": "python",
   "name": "python3"
  },
  "language_info": {
   "codemirror_mode": {
    "name": "ipython",
    "version": 3
   },
   "file_extension": ".py",
   "mimetype": "text/x-python",
   "name": "python",
   "nbconvert_exporter": "python",
   "pygments_lexer": "ipython3",
   "version": "3.10.13"
  }
 },
 "nbformat": 4,
 "nbformat_minor": 5
}
